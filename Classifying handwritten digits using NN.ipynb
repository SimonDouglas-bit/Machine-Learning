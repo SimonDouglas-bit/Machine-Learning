{
 "cells": [
  {
   "cell_type": "code",
   "execution_count": 2,
   "id": "37c3ed22",
   "metadata": {},
   "outputs": [],
   "source": [
    "import numpy as np\n",
    "import matplotlib.pyplot as plt\n",
    "import torch\n",
    "import torch.nn as nn\n",
    "import torch.optim as optim\n",
    "import torchvision\n",
    "from torchvision import datasets, transforms"
   ]
  },
  {
   "cell_type": "markdown",
   "id": "09f62697",
   "metadata": {},
   "source": [
    "### Defining transforms that must be applied to help process the dataset"
   ]
  },
  {
   "cell_type": "code",
   "execution_count": 3,
   "id": "bd56782b",
   "metadata": {},
   "outputs": [],
   "source": [
    "transform = transforms.Compose([transforms.ToTensor()])\n",
    "\n",
    "trainset = datasets.MNIST('train', download=True, train=True, transform=transform)\n",
    "\n",
    "testset = datasets.MNIST('test', download=True, train=False, transform=transform)\n",
    "\n",
    "train_loader = torch.utils.data.DataLoader(trainset, batch_size=64, shuffle=True)\n",
    "test_loader = torch.utils.data.DataLoader(testset, batch_size=64, shuffle=True)"
   ]
  },
  {
   "cell_type": "markdown",
   "id": "1a8af64f",
   "metadata": {},
   "source": [
    "***MNIST database is a dataset popularized by Yann LeCun and contains 70,000 examples of handwritten digits***"
   ]
  },
  {
   "cell_type": "code",
   "execution_count": 4,
   "id": "a22cdb63",
   "metadata": {},
   "outputs": [],
   "source": [
    "dataiter = iter(train_loader)"
   ]
  },
  {
   "cell_type": "code",
   "execution_count": 5,
   "id": "d3a64cd2",
   "metadata": {},
   "outputs": [
    {
     "data": {
      "text/plain": [
       "<torch.utils.data.dataloader._SingleProcessDataLoaderIter at 0x7f8073ac10d0>"
      ]
     },
     "execution_count": 5,
     "metadata": {},
     "output_type": "execute_result"
    }
   ],
   "source": [
    "dataiter"
   ]
  },
  {
   "cell_type": "code",
   "execution_count": 6,
   "id": "f8e3bdf5",
   "metadata": {},
   "outputs": [],
   "source": [
    "images, labels = next(dataiter)"
   ]
  },
  {
   "cell_type": "code",
   "execution_count": 7,
   "id": "85542491",
   "metadata": {},
   "outputs": [
    {
     "data": {
      "text/plain": [
       "<matplotlib.image.AxesImage at 0x7f8072094880>"
      ]
     },
     "execution_count": 7,
     "metadata": {},
     "output_type": "execute_result"
    },
    {
     "data": {
      "image/png": "[encoded data removed]",
      "text/plain": [
       "<Figure size 432x288 with 1 Axes>"
      ]
     },
     "metadata": {
      "needs_background": "light"
     },
     "output_type": "display_data"
    }
   ],
   "source": [
    "#locating a picture\n",
    "plt.imshow(images[0].numpy().squeeze(), cmap='gray_r')"
   ]
  },
  {
   "cell_type": "markdown",
   "id": "6162c572",
   "metadata": {},
   "source": [
    "Each digit is present in a 28x28 pixel box. Each pixel, in this grayscale dataset,\n",
    "contains a value from 0 to 255 indicating the color (in terms of darkness). Thus, each\n",
    "image is defined by 784 values."
   ]
  },
  {
   "cell_type": "code",
   "execution_count": 8,
   "id": "875b130a",
   "metadata": {},
   "outputs": [],
   "source": [
    "#nn model\n",
    "model = nn.Sequential(nn.Linear(784, 64),\n",
    "                      nn.ReLU(),\n",
    "                      nn.Linear(64,64),\n",
    "                      nn.ReLU(),\n",
    "                      nn.Linear(64,10)\n",
    "                     )"
   ]
  },
  {
   "cell_type": "markdown",
   "id": "64f9bcf7",
   "metadata": {},
   "source": [
    "The input layer contains 784 units and the output layer contains 10 units representing decimal digits"
   ]
  },
  {
   "cell_type": "code",
   "execution_count": 9,
   "id": "459ec36d",
   "metadata": {},
   "outputs": [
    {
     "data": {
      "text/plain": [
       "Sequential(\n",
       "  (0): Linear(in_features=784, out_features=64, bias=True)\n",
       "  (1): ReLU()\n",
       "  (2): Linear(in_features=64, out_features=64, bias=True)\n",
       "  (3): ReLU()\n",
       "  (4): Linear(in_features=64, out_features=10, bias=True)\n",
       ")"
      ]
     },
     "execution_count": 9,
     "metadata": {},
     "output_type": "execute_result"
    }
   ],
   "source": [
    "model"
   ]
  },
  {
   "cell_type": "code",
   "execution_count": 10,
   "id": "1d7b769c",
   "metadata": {},
   "outputs": [],
   "source": [
    "# loss function and optimizer\n",
    "lossfn = nn.CrossEntropyLoss()\n",
    "optimizer = torch.optim.SGD(model.parameters(),lr=.01)"
   ]
  },
  {
   "cell_type": "code",
   "execution_count": 13,
   "id": "41be8e4b",
   "metadata": {},
   "outputs": [
    {
     "name": "stdout",
     "output_type": "stream",
     "text": [
      "Epoch 0 - Training loss: 1.7163368785050885\n",
      "Epoch 1 - Training loss: 0.549147734907009\n",
      "Epoch 2 - Training loss: 0.3953576859380645\n",
      "Epoch 3 - Training loss: 0.34881145169517636\n",
      "Epoch 4 - Training loss: 0.3219700091476761\n",
      "Epoch 5 - Training loss: 0.30190177312664895\n",
      "Epoch 6 - Training loss: 0.2846942483536851\n",
      "Epoch 7 - Training loss: 0.26973898720337763\n",
      "Epoch 8 - Training loss: 0.2564559022524654\n",
      "Epoch 9 - Training loss: 0.24367129037391022\n"
     ]
    }
   ],
   "source": [
    "losses = []\n",
    "for epoch in range(10):\n",
    "    running_loss = 0\n",
    "    for images, labels in train_loader:\n",
    "        images = images.view(images.shape[0], -1)\n",
    "        optimizer.zero_grad()\n",
    "        output = model(images)\n",
    "        loss = lossfn(output, labels)\n",
    "        loss.backward()\n",
    "        optimizer.step()\n",
    "        running_loss += loss.item()\n",
    "    print(\"Epoch {} - Training loss: {}\".format(epoch, running_loss/len(train_loader)))\n",
    "    losses.append(running_loss/len(train_loader))"
   ]
  },
  {
   "cell_type": "markdown",
   "id": "be78be43",
   "metadata": {},
   "source": [
    "**A graph showing reduction of loss over time**"
   ]
  },
  {
   "cell_type": "code",
   "execution_count": 14,
   "id": "4d0ad5b9",
   "metadata": {},
   "outputs": [
    {
     "data": {
      "image/png": "[encoded data removed]",
      "text/plain": [
       "<Figure size 432x288 with 1 Axes>"
      ]
     },
     "metadata": {
      "needs_background": "light"
     },
     "output_type": "display_data"
    }
   ],
   "source": [
    "plt.plot(losses)\n",
    "plt.xlabel('Epoch')\n",
    "plt.ylabel('Loss')\n",
    "plt.show()"
   ]
  },
  {
   "cell_type": "code",
   "execution_count": 16,
   "id": "c8daf408",
   "metadata": {},
   "outputs": [
    {
     "data": {
      "text/plain": [
       "<matplotlib.image.AxesImage at 0x7f8071f818e0>"
      ]
     },
     "execution_count": 16,
     "metadata": {},
     "output_type": "execute_result"
    },
    {
     "data": {
      "image/png": "[encoded data removed]",
      "text/plain": [
       "<Figure size 432x288 with 1 Axes>"
      ]
     },
     "metadata": {
      "needs_background": "light"
     },
     "output_type": "display_data"
    }
   ],
   "source": [
    "# testing the model\n",
    "testimgs, testlabels = next(iter(test_loader))\n",
    "plt.imshow(testimgs[0][0].numpy().squeeze(), cmap='gray_r')"
   ]
  },
  {
   "cell_type": "markdown",
   "id": "4d4f7e76",
   "metadata": {},
   "source": [
    "First compressing the image to 1x784 cell format and find the values at the output layer. The highest value would correspond to the predicted value. Also convert the values of output cells to the probabilities, of which, the best can be chosen as the output."
   ]
  },
  {
   "cell_type": "code",
   "execution_count": 17,
   "id": "ceb0d228",
   "metadata": {},
   "outputs": [
    {
     "data": {
      "text/plain": [
       "4"
      ]
     },
     "execution_count": 17,
     "metadata": {},
     "output_type": "execute_result"
    }
   ],
   "source": [
    "img = testimgs[0].view(1, 784)\n",
    "with torch.no_grad():\n",
    "    logps = model(img)\n",
    "ps = torch.exp(logps)\n",
    "probabilities = list(ps.numpy()[0])\n",
    "prediction = probabilities.index(max(probabilities))\n",
    "prediction"
   ]
  },
  {
   "cell_type": "code",
   "execution_count": null,
   "id": "a901cb64",
   "metadata": {},
   "outputs": [],
   "source": []
  }
 ],
 "metadata": {
  "kernelspec": {
   "display_name": "Python 3 (ipykernel)",
   "language": "python",
   "name": "python3"
  },
  "language_info": {
   "codemirror_mode": {
    "name": "ipython",
    "version": 3
   },
   "file_extension": ".py",
   "mimetype": "text/x-python",
   "name": "python",
   "nbconvert_exporter": "python",
   "pygments_lexer": "ipython3",
   "version": "3.9.12"
  }
 },
 "nbformat": 4,
 "nbformat_minor": 5
}
