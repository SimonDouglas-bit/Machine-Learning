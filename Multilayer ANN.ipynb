{
 "cells": [
  {
   "cell_type": "code",
   "execution_count": 2,
   "id": "b6b69c8e",
   "metadata": {},
   "outputs": [],
   "source": [
    "# importing iris dataset\n",
    "import pandas as pd\n",
    "import numpy as np\n",
    "from sklearn.datasets import load_iris\n",
    "from sklearn.preprocessing import StandardScaler\n",
    "iris = load_iris()\n",
    "df = pd.DataFrame(data=iris.data, columns=iris.feature_names)\n",
    "df['class'] = iris.target\n",
    "x = df.drop(labels='class', axis=1).astype(np.float32).values\n",
    "y = df['class'].astype(np.float32).values"
   ]
  },
  {
   "cell_type": "code",
   "execution_count": 3,
   "id": "0355c4a9",
   "metadata": {},
   "outputs": [],
   "source": [
    "# importing Pytorch libraries\n",
    "import torch, torch.nn as nn"
   ]
  },
  {
   "cell_type": "code",
   "execution_count": 4,
   "id": "3416ea10",
   "metadata": {},
   "outputs": [
    {
     "name": "stdout",
     "output_type": "stream",
     "text": [
      "torch.Size([150, 4])\n",
      "torch.Size([150])\n"
     ]
    }
   ],
   "source": [
    "# converting x and y to tensors and then to required data types\n",
    "data = torch.tensor(x).float()\n",
    "labels = torch.tensor(y).long()\n",
    "\n",
    "print(data.size())\n",
    "print(labels.size())"
   ]
  },
  {
   "cell_type": "code",
   "execution_count": 5,
   "id": "f60a7137",
   "metadata": {},
   "outputs": [],
   "source": [
    "# Defining a simple neural network with ReLu activations\n",
    "model = nn.Sequential(nn.Linear(4,16), nn.ReLU(),nn.Linear(16,16), nn.ReLU(), nn.Linear(16,3))"
   ]
  },
  {
   "cell_type": "code",
   "execution_count": 6,
   "id": "5f0365e3",
   "metadata": {},
   "outputs": [],
   "source": [
    "# Defining loss function and optimizer\n",
    "crossentropyloss = nn.CrossEntropyLoss()\n",
    "optimizer = torch.optim.SGD(model.parameters(), lr =.01)"
   ]
  },
  {
   "cell_type": "code",
   "execution_count": 7,
   "id": "af50009a",
   "metadata": {},
   "outputs": [],
   "source": [
    "maxiter = 1000\n",
    "losses = []\n",
    "accuracy = []\n",
    "for epoch in range(maxiter):\n",
    "    preds = model(data)\n",
    "    loss = crossentropyloss(preds, labels)\n",
    "    losses.append(loss.detach())\n",
    "    optimizer.zero_grad()\n",
    "    loss.backward()\n",
    "    optimizer.step()\n",
    "    \n",
    "    matches = (torch.argmax(preds, axis=1) == labels).float()\n",
    "    accuracyPct = 100*torch.mean(matches)\n",
    "    accuracy.append(accuracyPct)"
   ]
  },
  {
   "cell_type": "code",
   "execution_count": 8,
   "id": "111ef5ae",
   "metadata": {},
   "outputs": [
    {
     "data": {
      "image/png": "[encoded data removed]",
      "text/plain": [
       "<Figure size 936x288 with 2 Axes>"
      ]
     },
     "metadata": {
      "needs_background": "light"
     },
     "output_type": "display_data"
    }
   ],
   "source": [
    "# Assume the loss have sufficiently reduced and accuracies be consistent after 1000 epochs\n",
    "\n",
    "# Plotting accuracy against epoch\n",
    "import matplotlib.pyplot as plt\n",
    "fig, ax = plt.subplots(1, 2, figsize=(13,4))\n",
    "\n",
    "ax[0].plot(losses)\n",
    "ax[0].set_ylabel('Loss')\n",
    "ax[0].set_xlabel('Epoch')\n",
    "ax[0].set_title('Losses')\n",
    "\n",
    "ax[1].plot(accuracy)\n",
    "ax[1].set_ylabel('Accuracy')\n",
    "ax[1].set_xlabel('Epoch')\n",
    "ax[1].set_title('Accuracy')\n",
    "plt.show()"
   ]
  },
  {
   "cell_type": "code",
   "execution_count": null,
   "id": "1595a2b1",
   "metadata": {},
   "outputs": [],
   "source": [
    "# The above graphs shows reduction in losses and growth of accuracy over the epochs"
   ]
  },
  {
   "cell_type": "code",
   "execution_count": 9,
   "id": "9f7b1847",
   "metadata": {},
   "outputs": [
    {
     "data": {
      "text/plain": [
       "tensor(98.)"
      ]
     },
     "execution_count": 9,
     "metadata": {},
     "output_type": "execute_result"
    }
   ],
   "source": [
    "# Finding the predictions for the final model and comparing with the original values\n",
    "predictions = model(data)\n",
    "predlabels = torch.argmax(predictions, axis=1)\n",
    "final_accuracy = 100*torch.mean((predlabels == labels).float())\n",
    "final_accuracy"
   ]
  },
  {
   "cell_type": "markdown",
   "id": "485794ff",
   "metadata": {},
   "source": [
    "## Trying to reveal more insight about how ANNs create boundaries"
   ]
  },
  {
   "cell_type": "code",
   "execution_count": 11,
   "id": "ce2a0d93",
   "metadata": {},
   "outputs": [],
   "source": [
    "from matplotlib.colors import ListedColormap\n",
    "\n",
    "x = df.drop(labels='class', axis=1).astype(np.float32).values\n",
    "y = df['class'].astype(np.float32).values\n",
    "data = torch.tensor( x[:,1:3] ).float()\n",
    "labels = torch.tensor( y ).long()"
   ]
  },
  {
   "cell_type": "code",
   "execution_count": 12,
   "id": "cf2780ec",
   "metadata": {},
   "outputs": [],
   "source": [
    "# creating the model\n",
    "model = nn.Sequential(nn.Linear(2, 128),   #input layer\n",
    "                      nn.ReLU(),           #activation function\n",
    "                      nn.Linear(128, 128), #hidden layer\n",
    "                      nn.Sigmoid(),        #activation function\n",
    "                      nn.Linear(128,3)     #output layer\n",
    "                     )"
   ]
  },
  {
   "cell_type": "code",
   "execution_count": 13,
   "id": "e1c47c2a",
   "metadata": {},
   "outputs": [],
   "source": [
    "#training the model\n",
    "optimizer = torch.optim.SGD(model.parameters(), lr=.01)\n",
    "\n",
    "for epoch in range(maxiter):\n",
    "    preds = model(data)\n",
    "    loss = crossentropyloss(preds, labels)\n",
    "    optimizer.zero_grad()\n",
    "    loss.backward()\n",
    "    optimizer.step()"
   ]
  },
  {
   "cell_type": "markdown",
   "id": "141eabec",
   "metadata": {},
   "source": [
    "### preparing a 2D space for plotting a contour plot to show decision boundaries"
   ]
  },
  {
   "cell_type": "code",
   "execution_count": 17,
   "id": "adbfb665",
   "metadata": {},
   "outputs": [
    {
     "name": "stderr",
     "output_type": "stream",
     "text": [
      "/tmp/ipykernel_30760/1338625742.py:19: UserWarning: You passed a edgecolor/edgecolors ('black') for an unfilled marker ('x').  Matplotlib is ignoring the edgecolor in favor of the facecolor.  This behavior may change in the future.\n",
      "  plt.scatter(x=x[y == cl, 1], y=x[y == cl, 2], c=colors[idx],\n"
     ]
    },
    {
     "data": {
      "image/png": "[encoded data removed]",
      "text/plain": [
       "<Figure size 432x288 with 1 Axes>"
      ]
     },
     "metadata": {
      "needs_background": "light"
     },
     "output_type": "display_data"
    }
   ],
   "source": [
    "x1_min, x1_max = x[:, 1].min() - 1, x[:, 1].max()+1\n",
    "x2_min, x2_max = x[:, 2].min() - 1, x[:, 2].max()+ 1\n",
    "xx1, xx2 = np.meshgrid(np.arange(x1_min, x1_max, 0.01), np.arange(x2_min, x2_max, 0.01))\n",
    "\n",
    "predictions = model(torch.tensor(np.array([xx1.ravel(), xx2.ravel()]).astype(np.float32)).T)\n",
    "predlabels = torch.argmax(predictions, axis=1)\n",
    "\n",
    "markers = ('s', 'x', 'o', '^', 'v')\n",
    "colors = ('red', 'blue', 'lightgreen', 'gray', 'cyan')\n",
    "cmap = ListedColormap(colors[:len(np.unique(y))])\n",
    "\n",
    "Z = predlabels.T\n",
    "Z = Z.reshape(xx1.shape)\n",
    "plt.contourf(xx1, xx2, Z, alpha=0.3, cmap=cmap)\n",
    "plt.xlim(xx1.min(), xx1.max())\n",
    "plt.ylim(xx2.min(), xx2.max())\n",
    "\n",
    "for idx, cl in enumerate(np.unique(y)):\n",
    "    plt.scatter(x=x[y == cl, 1], y=x[y == cl, 2], c=colors[idx],\n",
    "               marker=markers[idx], alpha=0.5, label=cl, edgecolor='black')"
   ]
  },
  {
   "cell_type": "markdown",
   "id": "f64a09d0",
   "metadata": {},
   "source": [
    "* The decicions boundaries might not be straight, and with more complex data, they might be even more complex"
   ]
  },
  {
   "cell_type": "code",
   "execution_count": null,
   "id": "18450eac",
   "metadata": {},
   "outputs": [],
   "source": []
  }
 ],
 "metadata": {
  "kernelspec": {
   "display_name": "Python 3 (ipykernel)",
   "language": "python",
   "name": "python3"
  },
  "language_info": {
   "codemirror_mode": {
    "name": "ipython",
    "version": 3
   },
   "file_extension": ".py",
   "mimetype": "text/x-python",
   "name": "python",
   "nbconvert_exporter": "python",
   "pygments_lexer": "ipython3",
   "version": "3.9.12"
  }
 },
 "nbformat": 4,
 "nbformat_minor": 5
}
