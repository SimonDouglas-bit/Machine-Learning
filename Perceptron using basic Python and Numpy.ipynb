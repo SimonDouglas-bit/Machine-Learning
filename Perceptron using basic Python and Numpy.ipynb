{
 "cells": [
  {
   "cell_type": "code",
   "execution_count": 2,
   "id": "588a414b",
   "metadata": {},
   "outputs": [],
   "source": [
    "from sklearn import datasets\n",
    "import matplotlib.pyplot as plt"
   ]
  },
  {
   "cell_type": "code",
   "execution_count": 4,
   "id": "975d0bbb",
   "metadata": {},
   "outputs": [],
   "source": [
    "#creating a synthetic dataset\n",
    "X, y = datasets.make_blobs(n_samples=100,n_features=2, centers=2, random_state=42, shuffle=1)"
   ]
  },
  {
   "cell_type": "code",
   "execution_count": 5,
   "id": "f04c0c09",
   "metadata": {},
   "outputs": [
    {
     "data": {
      "image/png": "[encoded data removed]",
      "text/plain": [
       "<Figure size 720x576 with 1 Axes>"
      ]
     },
     "metadata": {
      "needs_background": "light"
     },
     "output_type": "display_data"
    }
   ],
   "source": [
    "#visualizing\n",
    "fig = plt.figure(figsize=(10,8))\n",
    "plt.plot(X[:,0][y == 0], X[:, 1][y == 0], 'b+')\n",
    "plt.plot(X[:,0][y == 1], X[:, 1][y == 1], 'ro')\n",
    "plt.xlabel(\"Feature 1\")\n",
    "plt.ylabel(\"Feature 2\")\n",
    "plt.show()"
   ]
  },
  {
   "cell_type": "code",
   "execution_count": 6,
   "id": "be287fe3",
   "metadata": {},
   "outputs": [],
   "source": [
    "# creating the predict() function from scratch\n",
    "def predict(X, weight):\n",
    "    return np.where(np.dot(X, weight) > 0.0, 1, 0)"
   ]
  },
  {
   "cell_type": "code",
   "execution_count": 8,
   "id": "1770bd71",
   "metadata": {},
   "outputs": [],
   "source": [
    "import numpy as np\n",
    "# there are three weights, though the dataset still has two columns,so we\n",
    "# will add a column to compensate for the bias, thus leading to a shape of 100x3\n",
    "X = np.concatenate((np.ones((X.shape[0], 1)), X), axis=1)\n",
    "weight = np.random.random(X.shape[1]) # initializing the weights to random values"
   ]
  },
  {
   "cell_type": "code",
   "execution_count": 9,
   "id": "cc54a93a",
   "metadata": {},
   "outputs": [],
   "source": [
    "# After initialization, we will run an iterative process till a predetermined number of\n",
    "# iterations (or epochs) and, within each iteration, process each point and update the\n",
    "# weights"
   ]
  },
  {
   "cell_type": "code",
   "execution_count": 10,
   "id": "596fbe52",
   "metadata": {},
   "outputs": [],
   "source": [
    "# Creating the fit method\n",
    "def fit(X, y, niter=100, alpha=0.1):\n",
    "    X = np.concatenate((np.ones((X.shape[0],1)), X), axis=1)\n",
    "    weight = np.random.random(X.shape[1])\n",
    "    for i in range(niter):\n",
    "        err = 0\n",
    "        for xi, target in zip(X, y):\n",
    "            weight += alpha * (target - predict(xi, weight)) * xi\n",
    "    return weight"
   ]
  },
  {
   "cell_type": "code",
   "execution_count": 11,
   "id": "23bc1ef8",
   "metadata": {},
   "outputs": [],
   "source": [
    "# Learning the weights\n",
    "w = fit(X, y)"
   ]
  },
  {
   "cell_type": "code",
   "execution_count": 12,
   "id": "dab5469b",
   "metadata": {},
   "outputs": [
    {
     "data": {
      "text/plain": [
       "array([ 0.3543932 ,  0.6465271 ,  1.13757444, -0.26292998])"
      ]
     },
     "execution_count": 12,
     "metadata": {},
     "output_type": "execute_result"
    }
   ],
   "source": [
    "w"
   ]
  },
  {
   "cell_type": "code",
   "execution_count": 13,
   "id": "49a19e8e",
   "metadata": {},
   "outputs": [],
   "source": [
    "# picking random elements from X to compare how the perceptron labels them\n",
    "random_elements = np.random.choice(X.shape[0], size=5, replace=False)\n",
    "X_test = X[random_elements, :]"
   ]
  },
  {
   "cell_type": "code",
   "execution_count": 14,
   "id": "2cf9c92a",
   "metadata": {},
   "outputs": [
    {
     "data": {
      "text/plain": [
       "array([[ 1.        , -2.98837186,  8.82862715],\n",
       "       [ 1.        ,  4.89037169,  2.31961789],\n",
       "       [ 1.        ,  4.7395302 ,  1.46969403],\n",
       "       [ 1.        , -2.26723535,  7.10100588],\n",
       "       [ 1.        , -5.12894273,  9.83618863]])"
      ]
     },
     "execution_count": 14,
     "metadata": {},
     "output_type": "execute_result"
    }
   ],
   "source": [
    "X_test"
   ]
  },
  {
   "cell_type": "code",
   "execution_count": 15,
   "id": "8f44de16",
   "metadata": {},
   "outputs": [],
   "source": [
    "# Adding an additional column with ones\n",
    "X_test = np.concatenate((np.ones((X_test.shape[0], 1)), X_test), axis = 1)"
   ]
  },
  {
   "cell_type": "code",
   "execution_count": 16,
   "id": "3e8a5e12",
   "metadata": {},
   "outputs": [
    {
     "data": {
      "text/plain": [
       "array([[ 1.        ,  1.        , -2.98837186,  8.82862715],\n",
       "       [ 1.        ,  1.        ,  4.89037169,  2.31961789],\n",
       "       [ 1.        ,  1.        ,  4.7395302 ,  1.46969403],\n",
       "       [ 1.        ,  1.        , -2.26723535,  7.10100588],\n",
       "       [ 1.        ,  1.        , -5.12894273,  9.83618863]])"
      ]
     },
     "execution_count": 16,
     "metadata": {},
     "output_type": "execute_result"
    }
   ],
   "source": [
    "X_test"
   ]
  },
  {
   "cell_type": "code",
   "execution_count": 17,
   "id": "d09b4b87",
   "metadata": {},
   "outputs": [
    {
     "name": "stdout",
     "output_type": "stream",
     "text": [
      "[0 1 1 0 0]\n",
      "[0 1 1 0 0]\n"
     ]
    }
   ],
   "source": [
    "# calling the predict method and compare the results with the actual values\n",
    "print(predict(X_test, w))\n",
    "print(y[random_elements])"
   ]
  },
  {
   "cell_type": "code",
   "execution_count": 18,
   "id": "b577e5bb",
   "metadata": {},
   "outputs": [
    {
     "data": {
      "text/plain": [
       "'The results look good because the dataset is too simple – however, remember that a\\nsimple perceptron does not perform well in cases where decision boundaries are not so\\nclear. It is a good idea to combine such simple computation units to create a more\\ncomplex neural network.'"
      ]
     },
     "execution_count": 18,
     "metadata": {},
     "output_type": "execute_result"
    }
   ],
   "source": [
    "'''The results look good because the dataset is too simple – however, remember that a\n",
    "simple perceptron does not perform well in cases where decision boundaries are not so\n",
    "clear. It is a good idea to combine such simple computation units to create a more\n",
    "complex neural network.'''"
   ]
  },
  {
   "cell_type": "code",
   "execution_count": null,
   "id": "f05116a3",
   "metadata": {},
   "outputs": [],
   "source": []
  }
 ],
 "metadata": {
  "kernelspec": {
   "display_name": "Python 3 (ipykernel)",
   "language": "python",
   "name": "python3"
  },
  "language_info": {
   "codemirror_mode": {
    "name": "ipython",
    "version": 3
   },
   "file_extension": ".py",
   "mimetype": "text/x-python",
   "name": "python",
   "nbconvert_exporter": "python",
   "pygments_lexer": "ipython3",
   "version": "3.9.12"
  }
 },
 "nbformat": 4,
 "nbformat_minor": 5
}
