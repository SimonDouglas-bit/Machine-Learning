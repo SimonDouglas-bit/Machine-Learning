{
 "cells": [
  {
   "cell_type": "code",
   "execution_count": 1,
   "id": "35a68454",
   "metadata": {},
   "outputs": [],
   "source": [
    "import matplotlib.pyplot as plt\n",
    "import torch\n",
    "import torch.nn as nn"
   ]
  },
  {
   "cell_type": "code",
   "execution_count": 2,
   "id": "8a8b0187",
   "metadata": {},
   "outputs": [
    {
     "data": {
      "image/png": "[encoded data removed]",
      "text/plain": [
       "<Figure size 432x288 with 1 Axes>"
      ]
     },
     "metadata": {
      "needs_background": "light"
     },
     "output_type": "display_data"
    }
   ],
   "source": [
    "#Generating random samples for regression\n",
    "x = torch.randn(20, 1)\n",
    "y = x + torch.randn(20,1)/2\n",
    "plt.scatter(x,y)\n",
    "plt.show()"
   ]
  },
  {
   "cell_type": "code",
   "execution_count": 3,
   "id": "46ed7a57",
   "metadata": {},
   "outputs": [],
   "source": [
    "# Creating a simple sequential model with an input layer, an activation func and an output layer\n",
    "model = nn.Sequential(nn.Linear(1,1), nn.ReLU(), nn.Linear(1,1))"
   ]
  },
  {
   "cell_type": "code",
   "execution_count": 4,
   "id": "3a7adc0a",
   "metadata": {},
   "outputs": [
    {
     "data": {
      "text/plain": [
       "[Parameter containing:\n",
       " tensor([[0.5381]], requires_grad=True),\n",
       " Parameter containing:\n",
       " tensor([0.4425], requires_grad=True),\n",
       " Parameter containing:\n",
       " tensor([[0.3950]], requires_grad=True),\n",
       " Parameter containing:\n",
       " tensor([-0.8699], requires_grad=True)]"
      ]
     },
     "execution_count": 4,
     "metadata": {},
     "output_type": "execute_result"
    }
   ],
   "source": [
    "#Seeing the model parameters\n",
    "list(model.parameters())"
   ]
  },
  {
   "cell_type": "code",
   "execution_count": 5,
   "id": "1fa139cd",
   "metadata": {},
   "outputs": [
    {
     "data": {
      "text/plain": [
       "tensor([[ 0.7523],\n",
       "        [ 0.7436],\n",
       "        [ 0.0411],\n",
       "        [-2.3874],\n",
       "        [ 0.4028],\n",
       "        [-0.8438],\n",
       "        [-0.0309],\n",
       "        [ 0.0686],\n",
       "        [-0.0138],\n",
       "        [-0.4630],\n",
       "        [ 0.7495],\n",
       "        [ 0.6788],\n",
       "        [ 0.2926],\n",
       "        [ 0.2200],\n",
       "        [ 0.6637],\n",
       "        [ 0.8290],\n",
       "        [-0.4756],\n",
       "        [ 0.3486],\n",
       "        [-0.4741],\n",
       "        [-0.6907]])"
      ]
     },
     "execution_count": 5,
     "metadata": {},
     "output_type": "execute_result"
    }
   ],
   "source": [
    "x"
   ]
  },
  {
   "cell_type": "code",
   "execution_count": 6,
   "id": "1208ff52",
   "metadata": {},
   "outputs": [],
   "source": [
    "#Scaling the data in the 0-1 range\n",
    "x = (x-x.min())/(x.max()-x.min())\n",
    "y = (y-y.min())/(y.max()-y.min())"
   ]
  },
  {
   "cell_type": "code",
   "execution_count": 7,
   "id": "e2440cc4",
   "metadata": {},
   "outputs": [],
   "source": [
    "#Initializing mean squared error loss function and an optimizer to use stochastic gradient descent for updating w\n",
    "lossfunction = nn.MSELoss()\n",
    "optimizer = torch.optim.SGD(model.parameters(), lr=0.05)"
   ]
  },
  {
   "cell_type": "code",
   "execution_count": 8,
   "id": "0feaaa2c",
   "metadata": {},
   "outputs": [],
   "source": [
    "#Learning process\n",
    "loss_history = [] #keep track of losses\n",
    "for epoch in range(50):\n",
    "    pred = model(x)\n",
    "    loss = lossfunction(pred,y)\n",
    "    loss_history.append(loss)\n",
    "    optimizer.zero_grad()\n",
    "    loss.backward()\n",
    "    optimizer.step()"
   ]
  },
  {
   "cell_type": "code",
   "execution_count": 9,
   "id": "4bd60a06",
   "metadata": {},
   "outputs": [
    {
     "data": {
      "text/plain": [
       "[]"
      ]
     },
     "execution_count": 9,
     "metadata": {},
     "output_type": "execute_result"
    },
    {
     "data": {
      "image/png": "[encoded data removed]",
      "text/plain": [
       "<Figure size 432x288 with 1 Axes>"
      ]
     },
     "metadata": {
      "needs_background": "light"
     },
     "output_type": "display_data"
    }
   ],
   "source": [
    "# Visualizing how the losses changed by plotting a chart of loss_history\n",
    "plt.plot([x.detach() for x in loss_history], 'o-', markerfacecolor='w', linewidth=1)\n",
    "plt.plot()"
   ]
  },
  {
   "cell_type": "code",
   "execution_count": 10,
   "id": "249dbe9d",
   "metadata": {},
   "outputs": [],
   "source": [
    "#Loss reduces as the model is trained for more epochs(until around 6th) and converges after a point(10th)"
   ]
  },
  {
   "cell_type": "code",
   "execution_count": 11,
   "id": "a19a1241",
   "metadata": {},
   "outputs": [
    {
     "data": {
      "image/png": "[encoded data removed]",
      "text/plain": [
       "<Figure size 432x288 with 1 Axes>"
      ]
     },
     "metadata": {
      "needs_background": "light"
     },
     "output_type": "display_data"
    }
   ],
   "source": [
    "#The results produced by the system\n",
    "predictions = model(x)\n",
    "plt.plot(x, y, 'rx', label=\"Actual\")\n",
    "plt.plot(x, predictions.detach(), 'bo', label=\"Predictions\")\n",
    "plt.legend()\n",
    "plt.show()"
   ]
  },
  {
   "cell_type": "code",
   "execution_count": 12,
   "id": "0a162db4",
   "metadata": {},
   "outputs": [],
   "source": [
    "# This simple one-layer neural net might not always give best results. It is possible that the final regression line\n",
    "# might not closely fit as might be expected. The model can be defined and trained multiple times to see the \n",
    "# difference due to random initialization."
   ]
  },
  {
   "cell_type": "code",
   "execution_count": null,
   "id": "584eac8d",
   "metadata": {},
   "outputs": [],
   "source": []
  }
 ],
 "metadata": {
  "kernelspec": {
   "display_name": "Python 3 (ipykernel)",
   "language": "python",
   "name": "python3"
  },
  "language_info": {
   "codemirror_mode": {
    "name": "ipython",
    "version": 3
   },
   "file_extension": ".py",
   "mimetype": "text/x-python",
   "name": "python",
   "nbconvert_exporter": "python",
   "pygments_lexer": "ipython3",
   "version": "3.9.12"
  }
 },
 "nbformat": 4,
 "nbformat_minor": 5
}
