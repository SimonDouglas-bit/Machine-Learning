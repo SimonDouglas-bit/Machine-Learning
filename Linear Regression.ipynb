{
 "cells": [
  {
   "cell_type": "code",
   "execution_count": 1,
   "id": "53b3b32f",
   "metadata": {},
   "outputs": [],
   "source": [
    "import numpy as np\n",
    "import pandas as pd\n",
    "data = pd.DataFrame({\"marks\":[34,95,64,88,99,51], \"salary\":[3400, 2900,\n",
    "4250, 5000, 5100, 5600]})"
   ]
  },
  {
   "cell_type": "code",
   "execution_count": 2,
   "id": "b7f96480",
   "metadata": {},
   "outputs": [],
   "source": [
    "#Transforming the datat to the correct shape.\n",
    "X = data[['marks']].values\n",
    "y = data['salary'].values"
   ]
  },
  {
   "cell_type": "code",
   "execution_count": 3,
   "id": "4b39a5e9",
   "metadata": {},
   "outputs": [
    {
     "name": "stdout",
     "output_type": "stream",
     "text": [
      "(6, 1) (6,)\n"
     ]
    }
   ],
   "source": [
    "print ( X.shape, y.shape )"
   ]
  },
  {
   "cell_type": "code",
   "execution_count": 4,
   "id": "edc12491",
   "metadata": {},
   "outputs": [
    {
     "data": {
      "text/html": [
       "<style>#sk-container-id-1 {color: black;background-color: white;}#sk-container-id-1 pre{padding: 0;}#sk-container-id-1 div.sk-toggleable {background-color: white;}#sk-container-id-1 label.sk-toggleable__label {cursor: pointer;display: block;width: 100%;margin-bottom: 0;padding: 0.3em;box-sizing: border-box;text-align: center;}#sk-container-id-1 label.sk-toggleable__label-arrow:before {content: \"▸\";float: left;margin-right: 0.25em;color: #696969;}#sk-container-id-1 label.sk-toggleable__label-arrow:hover:before {color: black;}#sk-container-id-1 div.sk-estimator:hover label.sk-toggleable__label-arrow:before {color: black;}#sk-container-id-1 div.sk-toggleable__content {max-height: 0;max-width: 0;overflow: hidden;text-align: left;background-color: #f0f8ff;}#sk-container-id-1 div.sk-toggleable__content pre {margin: 0.2em;color: black;border-radius: 0.25em;background-color: #f0f8ff;}#sk-container-id-1 input.sk-toggleable__control:checked~div.sk-toggleable__content {max-height: 200px;max-width: 100%;overflow: auto;}#sk-container-id-1 input.sk-toggleable__control:checked~label.sk-toggleable__label-arrow:before {content: \"▾\";}#sk-container-id-1 div.sk-estimator input.sk-toggleable__control:checked~label.sk-toggleable__label {background-color: #d4ebff;}#sk-container-id-1 div.sk-label input.sk-toggleable__control:checked~label.sk-toggleable__label {background-color: #d4ebff;}#sk-container-id-1 input.sk-hidden--visually {border: 0;clip: rect(1px 1px 1px 1px);clip: rect(1px, 1px, 1px, 1px);height: 1px;margin: -1px;overflow: hidden;padding: 0;position: absolute;width: 1px;}#sk-container-id-1 div.sk-estimator {font-family: monospace;background-color: #f0f8ff;border: 1px dotted black;border-radius: 0.25em;box-sizing: border-box;margin-bottom: 0.5em;}#sk-container-id-1 div.sk-estimator:hover {background-color: #d4ebff;}#sk-container-id-1 div.sk-parallel-item::after {content: \"\";width: 100%;border-bottom: 1px solid gray;flex-grow: 1;}#sk-container-id-1 div.sk-label:hover label.sk-toggleable__label {background-color: #d4ebff;}#sk-container-id-1 div.sk-serial::before {content: \"\";position: absolute;border-left: 1px solid gray;box-sizing: border-box;top: 0;bottom: 0;left: 50%;z-index: 0;}#sk-container-id-1 div.sk-serial {display: flex;flex-direction: column;align-items: center;background-color: white;padding-right: 0.2em;padding-left: 0.2em;position: relative;}#sk-container-id-1 div.sk-item {position: relative;z-index: 1;}#sk-container-id-1 div.sk-parallel {display: flex;align-items: stretch;justify-content: center;background-color: white;position: relative;}#sk-container-id-1 div.sk-item::before, #sk-container-id-1 div.sk-parallel-item::before {content: \"\";position: absolute;border-left: 1px solid gray;box-sizing: border-box;top: 0;bottom: 0;left: 50%;z-index: -1;}#sk-container-id-1 div.sk-parallel-item {display: flex;flex-direction: column;z-index: 1;position: relative;background-color: white;}#sk-container-id-1 div.sk-parallel-item:first-child::after {align-self: flex-end;width: 50%;}#sk-container-id-1 div.sk-parallel-item:last-child::after {align-self: flex-start;width: 50%;}#sk-container-id-1 div.sk-parallel-item:only-child::after {width: 0;}#sk-container-id-1 div.sk-dashed-wrapped {border: 1px dashed gray;margin: 0 0.4em 0.5em 0.4em;box-sizing: border-box;padding-bottom: 0.4em;background-color: white;}#sk-container-id-1 div.sk-label label {font-family: monospace;font-weight: bold;display: inline-block;line-height: 1.2em;}#sk-container-id-1 div.sk-label-container {text-align: center;}#sk-container-id-1 div.sk-container {/* jupyter's `normalize.less` sets `[hidden] { display: none; }` but bootstrap.min.css set `[hidden] { display: none !important; }` so we also need the `!important` here to be able to override the default hidden behavior on the sphinx rendered scikit-learn.org. See: https://github.com/scikit-learn/scikit-learn/issues/21755 */display: inline-block !important;position: relative;}#sk-container-id-1 div.sk-text-repr-fallback {display: none;}</style><div id=\"sk-container-id-1\" class=\"sk-top-container\"><div class=\"sk-text-repr-fallback\"><pre>LinearRegression()</pre><b>In a Jupyter environment, please rerun this cell to show the HTML representation or trust the notebook. <br />On GitHub, the HTML representation is unable to render, please try loading this page with nbviewer.org.</b></div><div class=\"sk-container\" hidden><div class=\"sk-item\"><div class=\"sk-estimator sk-toggleable\"><input class=\"sk-toggleable__control sk-hidden--visually\" id=\"sk-estimator-id-1\" type=\"checkbox\" checked><label for=\"sk-estimator-id-1\" class=\"sk-toggleable__label sk-toggleable__label-arrow\">LinearRegression</label><div class=\"sk-toggleable__content\"><pre>LinearRegression()</pre></div></div></div></div></div>"
      ],
      "text/plain": [
       "LinearRegression()"
      ]
     },
     "execution_count": 4,
     "metadata": {},
     "output_type": "execute_result"
    }
   ],
   "source": [
    "#importing linear regression and fitting the data\n",
    "from sklearn.linear_model import LinearRegression\n",
    "reg = LinearRegression()\n",
    "reg.fit(X,y)"
   ]
  },
  {
   "cell_type": "code",
   "execution_count": 5,
   "id": "b0908702",
   "metadata": {},
   "outputs": [
    {
     "data": {
      "text/plain": [
       "array([4370.77778313])"
      ]
     },
     "execution_count": 5,
     "metadata": {},
     "output_type": "execute_result"
    }
   ],
   "source": [
    "# prediction\n",
    "reg.predict([[70]])"
   ]
  },
  {
   "cell_type": "code",
   "execution_count": 6,
   "id": "fdae3389",
   "metadata": {},
   "outputs": [
    {
     "data": {
      "text/plain": [
       "array([4439.86860471, 4324.7172354 , 4393.80805699])"
      ]
     },
     "execution_count": 6,
     "metadata": {},
     "output_type": "execute_result"
    }
   ],
   "source": [
    "# prediction for multiple arrays of data\n",
    "reg.predict([[100],[50],[80]])"
   ]
  },
  {
   "cell_type": "code",
   "execution_count": 7,
   "id": "a6668154",
   "metadata": {},
   "outputs": [
    {
     "name": "stdout",
     "output_type": "stream",
     "text": [
      "[2.30302739]\n",
      "4209.56586610194\n"
     ]
    }
   ],
   "source": [
    "# Checking the values of coefficient and interception\n",
    "print (reg.coef_)\n",
    "print (reg.intercept_)"
   ]
  },
  {
   "cell_type": "code",
   "execution_count": 9,
   "id": "6a3f9de2",
   "metadata": {},
   "outputs": [
    {
     "data": {
      "image/png": "[encoded data removed]",
      "text/plain": [
       "<Figure size 432x288 with 1 Axes>"
      ]
     },
     "metadata": {
      "needs_background": "light"
     },
     "output_type": "display_data"
    }
   ],
   "source": [
    "# visualization of what has been learned\n",
    "import matplotlib.pyplot as plt\n",
    "fig,ax = plt.subplots()\n",
    "plt.scatter(X, y)\n",
    "ax.axline((0, reg.intercept_), slope=reg.coef_ , label='regression line')\n",
    "ax.legend()\n",
    "plt.show()"
   ]
  },
  {
   "cell_type": "code",
   "execution_count": 14,
   "id": "587c89cf",
   "metadata": {},
   "outputs": [
    {
     "data": {
      "image/png": "[encoded data removed]",
      "text/plain": [
       "<Figure size 1080x504 with 1 Axes>"
      ]
     },
     "metadata": {
      "needs_background": "light"
     },
     "output_type": "display_data"
    }
   ],
   "source": [
    "# printing the value of each point in the graph\n",
    "import matplotlib.pyplot as plt\n",
    "import random\n",
    "fig,ax = plt.subplots()\n",
    "fig.set_size_inches(15,7)\n",
    "plt.scatter(X, y)\n",
    "ax.axline((0, reg.intercept_), slope=reg.coef_ , label='regression line')\n",
    "ax.legend()\n",
    "ax.set_xlim(0,110)\n",
    "ax.set_ylim(1000,10000)\n",
    "for point in zip(X, y):\n",
    "    ax.text(point[0][0], point[1]+5, \"(\"+str(point[0]\n",
    "    [0])+\",\"+str(point[1])+\")\")\n",
    "plt.show()"
   ]
  },
  {
   "cell_type": "code",
   "execution_count": 16,
   "id": "96eead88",
   "metadata": {},
   "outputs": [],
   "source": [
    "# Evaluation of Linear Regression\n",
    "results_table = pd.DataFrame(data=X, columns=['Marks'])\n",
    "results_table['Predicted Salary'] = reg.predict(X)\n",
    "results_table['Actual Salary'] = y\n",
    "results_table['Error'] = results_table['Actual Salary']-results_table['Predicted Salary']\n",
    "results_table['Error Squared'] = results_table['Error']* results_table['Error']"
   ]
  },
  {
   "cell_type": "code",
   "execution_count": 17,
   "id": "feaf1ec8",
   "metadata": {},
   "outputs": [
    {
     "data": {
      "text/html": [
       "<div>\n",
       "<style scoped>\n",
       "    .dataframe tbody tr th:only-of-type {\n",
       "        vertical-align: middle;\n",
       "    }\n",
       "\n",
       "    .dataframe tbody tr th {\n",
       "        vertical-align: top;\n",
       "    }\n",
       "\n",
       "    .dataframe thead th {\n",
       "        text-align: right;\n",
       "    }\n",
       "</style>\n",
       "<table border=\"1\" class=\"dataframe\">\n",
       "  <thead>\n",
       "    <tr style=\"text-align: right;\">\n",
       "      <th></th>\n",
       "      <th>Marks</th>\n",
       "      <th>Predicted Salary</th>\n",
       "      <th>Actual Salary</th>\n",
       "      <th>Error</th>\n",
       "      <th>Error Squared</th>\n",
       "    </tr>\n",
       "  </thead>\n",
       "  <tbody>\n",
       "    <tr>\n",
       "      <th>0</th>\n",
       "      <td>34</td>\n",
       "      <td>4287.868797</td>\n",
       "      <td>3400</td>\n",
       "      <td>-887.868797</td>\n",
       "      <td>7.883110e+05</td>\n",
       "    </tr>\n",
       "    <tr>\n",
       "      <th>1</th>\n",
       "      <td>95</td>\n",
       "      <td>4428.353468</td>\n",
       "      <td>2900</td>\n",
       "      <td>-1528.353468</td>\n",
       "      <td>2.335864e+06</td>\n",
       "    </tr>\n",
       "    <tr>\n",
       "      <th>2</th>\n",
       "      <td>64</td>\n",
       "      <td>4356.959619</td>\n",
       "      <td>4250</td>\n",
       "      <td>-106.959619</td>\n",
       "      <td>1.144036e+04</td>\n",
       "    </tr>\n",
       "    <tr>\n",
       "      <th>3</th>\n",
       "      <td>88</td>\n",
       "      <td>4412.232276</td>\n",
       "      <td>5000</td>\n",
       "      <td>587.767724</td>\n",
       "      <td>3.454709e+05</td>\n",
       "    </tr>\n",
       "    <tr>\n",
       "      <th>4</th>\n",
       "      <td>99</td>\n",
       "      <td>4437.565577</td>\n",
       "      <td>5100</td>\n",
       "      <td>662.434423</td>\n",
       "      <td>4.388194e+05</td>\n",
       "    </tr>\n",
       "    <tr>\n",
       "      <th>5</th>\n",
       "      <td>51</td>\n",
       "      <td>4327.020263</td>\n",
       "      <td>5600</td>\n",
       "      <td>1272.979737</td>\n",
       "      <td>1.620477e+06</td>\n",
       "    </tr>\n",
       "  </tbody>\n",
       "</table>\n",
       "</div>"
      ],
      "text/plain": [
       "   Marks  Predicted Salary  Actual Salary        Error  Error Squared\n",
       "0     34       4287.868797           3400  -887.868797   7.883110e+05\n",
       "1     95       4428.353468           2900 -1528.353468   2.335864e+06\n",
       "2     64       4356.959619           4250  -106.959619   1.144036e+04\n",
       "3     88       4412.232276           5000   587.767724   3.454709e+05\n",
       "4     99       4437.565577           5100   662.434423   4.388194e+05\n",
       "5     51       4327.020263           5600  1272.979737   1.620477e+06"
      ]
     },
     "execution_count": 17,
     "metadata": {},
     "output_type": "execute_result"
    }
   ],
   "source": [
    "results_table"
   ]
  },
  {
   "cell_type": "code",
   "execution_count": 20,
   "id": "05ced028",
   "metadata": {},
   "outputs": [
    {
     "name": "stdout",
     "output_type": "stream",
     "text": [
      "841.0606279379443\n",
      "923397.226099373\n",
      "960.9355993506396\n"
     ]
    }
   ],
   "source": [
    "# computing mean absolute error | mean squared error | root mean squared error\n",
    "import math\n",
    "import numpy as np\n",
    "mean_absolute_error = np.abs(results_table['Error']).mean()\n",
    "mean_squared_error = results_table['Error Squared'].mean()\n",
    "root_mean_squared_error = math.sqrt(mean_squared_error)\n",
    "print (mean_absolute_error)\n",
    "print (mean_squared_error)\n",
    "print (root_mean_squared_error)"
   ]
  },
  {
   "cell_type": "code",
   "execution_count": 24,
   "id": "29f2f8ea",
   "metadata": {},
   "outputs": [
    {
     "name": "stdout",
     "output_type": "stream",
     "text": [
      "923397.226099373\n",
      "960.9355993506396\n",
      "841.0606279379443\n"
     ]
    }
   ],
   "source": [
    "# Using internal implementation of sklearn to achieve the same as above\n",
    "from sklearn.metrics import mean_squared_error, mean_absolute_error\n",
    "print(mean_squared_error(results_table['Actual Salary'], results_table['Predicted Salary']))\n",
    "print(math.sqrt(mean_squared_error(results_table['Actual Salary'], results_table['Predicted Salary'])))\n",
    "print(mean_absolute_error(results_table['Actual Salary'], results_table['Predicted Salary']))"
   ]
  }
 ],
 "metadata": {
  "kernelspec": {
   "display_name": "Python 3 (ipykernel)",
   "language": "python",
   "name": "python3"
  },
  "language_info": {
   "codemirror_mode": {
    "name": "ipython",
    "version": 3
   },
   "file_extension": ".py",
   "mimetype": "text/x-python",
   "name": "python",
   "nbconvert_exporter": "python",
   "pygments_lexer": "ipython3",
   "version": "3.9.12"
  }
 },
 "nbformat": 4,
 "nbformat_minor": 5
}
